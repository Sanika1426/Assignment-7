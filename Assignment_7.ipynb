{
  "nbformat": 4,
  "nbformat_minor": 0,
  "metadata": {
    "colab": {
      "provenance": []
    },
    "kernelspec": {
      "name": "python3",
      "display_name": "Python 3"
    },
    "language_info": {
      "name": "python"
    }
  },
  "cells": [
    {
      "cell_type": "markdown",
      "source": [
        "THeory Question\n",
        "1. What is a RESTful API?\n",
        "- A RESTful API (short for Representational State Transfer Application Programming Interface) is a way for different software systems to communicate over the web using standard HTTP methods. It's based on a set of architectural principles defined by Roy Fielding in his doctoral dissertation.\n",
        "2. Explain the concept of API specification?\n",
        "- An API specification is a formal, detailed document or blueprint that describes how an API works, what it offers, and how clients can interact with it. It defines the structure, behavior, inputs, and outputs of the API—before the API is built or used.\n",
        "3. What is Flask, and why is it popular for building APIs?\n",
        "- Flask is a lightweight, open-source web framework written in Python, used to build web applications and RESTful APIs quickly and easily. It follows a microframework philosophy—providing the essentials while allowing developers to add extensions as needed.\n",
        "4. What is routing in Flask?\n",
        "- Routing in Flask is the mechanism that maps URLs (web addresses) to functions in your code. These functions are called view functions, and they define what should happen when a user or client accesses a specific URL.\n",
        "5. How do you create a simple Flask application?\n",
        "- Here’s a step-by-step guide to building a basic Flask app that returns a message when you visit a webpage.\n",
        "6.  What are HTTP methods used in RESTful APIs?\n",
        "- In a RESTful API, HTTP methods define what action you want to perform on a resource (like a user, book, or product). Each method maps to a CRUD operation: Create, Read, Update, Delete.\n",
        "7. What is the purpose of the @app.route() decorator in Flask?\n",
        "- The @app.route() decorator in Flask is used to bind a specific URL (or route) to a Python function, known as a view function. It tells Flask what URL should trigger which function when a request is made.\n",
        "8. What is the difference between GET and POST HTTP methods?\n",
        "-  GET: Used for fetching data.\n",
        "\n",
        "  POST: Used for sending data to create or update resources.\n",
        "9. How do you handle errors in Flask APIs?\n",
        "- In Flask APIs, error handling ensures that the app doesn't crash and instead returns meaningful error messages and HTTP status codes to the client.\n",
        "10. How do you connect Flask to a SQL database?\n",
        "- To connect Flask to a SQL database, the most common and recommended approach is to use Flask-SQLAlchemy, which integrates SQLAlchemy (a powerful ORM) with Flask.\n",
        "11. What is the role of Flask-SQLAlchemy?\n",
        "- Flask-SQLAlchemy is an extension for Flask that adds SQLAlchemy support to your Flask application, making it easy to interact with SQL databases using Python classes instead of writing raw SQL.\n",
        "12. What are Flask blueprints, and how are they useful?\n",
        "- Flask Blueprints are a way to organize a Flask application into reusable, modular components. Think of them as \"mini-apps\" that can be plugged into your main app.\n",
        "\n",
        " They help you split up your code into logical sections (routes, views, models, etc.), especially when your app gets large.\n",
        "13. What is the purpose of Flask's request object?\n",
        "- In Flask, the request object is used to access incoming HTTP request data sent by the client (e.g., a browser, mobile app, or API client).\n",
        "\n",
        " It is provided by Flask through the flask module and is available globally within a request context\n",
        "14. How do you create a RESTful API endpoint using Flask?\n",
        "- Creating a RESTful API endpoint in Flask is straightforward. Below is a step-by-step guide to create an API that handles basic CRUD operations (Create, Read, Update, Delete) using standard HTTP methods.\n",
        "15.  What is the purpose of Flask's jsonify() function?\n",
        "- The jsonify() function in Flask is used to convert Python data structures (like dictionaries and lists) into JSON responses that can be sent back to the client in an API.\n",
        "16. Explain Flask’s url_for() function?\n",
        "- Flask’s url_for() function is used to dynamically build URLs for routes (endpoints) in your application based on the function name, rather than hardcoding the URL paths manually.\n",
        "17.  How does Flask handle static files (CSS, JavaScript, etc.)?\n",
        "- Flask automatically serves static files (like CSS, JS, and images) from a folder named **static/** in your project directory.\n",
        "18. What is an API specification, and how does it help in building a Flask API?\n",
        "- An API specification is a contract that defines how the API should behave.\n",
        "In Flask, it helps you build well-structured, maintainable, and documented APIs by guiding design, development, and testing.\n",
        "19. What are HTTP status codes, and why are they important in a Flask API?\n",
        "- HTTP status codes are 3-digit codes sent by the server in response to a client’s request.\n",
        "They tell the client what happened with the request — success, failure, redirection, or an error.\n",
        "20. How do you handle POST requests in Flask?\n",
        "- A POST request is used when the client wants to send data to the server, typically to create a new resource (e.g., a new user, product, or message).\n",
        "\n",
        " Flask makes it easy to handle POST requests using the @app.route() decorator with the methods=[\"POST\"] option.\n",
        "21. How would you secure a Flask API?\n",
        "- Securing a Flask API is essential to prevent unauthorized access, data breaches, and abuse. Below are key strategies to make your Flask API secure.\n",
        "22. What is the significance of the Flask-RESTful extension?\n",
        "- Flask-RESTful is an extension for Flask that simplifies the process of building RESTful APIs.\n",
        "It provides tools and abstractions to write clean, organized, and scalable API code.\n",
        "23.  What is the role of Flask’s session object?\n",
        "- The session object in Flask is used to store data across multiple requests for a specific user — kind of like a temporary memory for users between page visits.\n",
        "\n",
        "\n",
        "\n",
        "\n",
        "\n",
        "\n",
        "\n"
      ],
      "metadata": {
        "id": "TreHflqx0yGK"
      }
    },
    {
      "cell_type": "code",
      "source": [
        "# Practical#\n",
        "# How do you create a basic Flask application#\n",
        "# app.py\n",
        "\n",
        "from flask import Flask\n",
        "\n",
        "# Create a Flask app instance\n",
        "app = Flask(__name__)\n",
        "\n",
        "# Define a route (URL endpoint) and its view function\n",
        "@app.route('/')\n",
        "def home():\n",
        "    return \"Welcome to your first Flask app!\"\n",
        "\n",
        "# Run the Flask development server\n",
        "if __name__ == '__main__':\n",
        "    app.run(debug=True)\n"
      ],
      "metadata": {
        "colab": {
          "base_uri": "https://localhost:8080/"
        },
        "id": "LcD2goG7UVaJ",
        "outputId": "71eb29f7-93a4-45f1-d5fc-8ed260de3fda"
      },
      "execution_count": null,
      "outputs": [
        {
          "output_type": "stream",
          "name": "stdout",
          "text": [
            " * Serving Flask app '__main__'\n",
            " * Debug mode: on\n"
          ]
        },
        {
          "output_type": "stream",
          "name": "stderr",
          "text": [
            "INFO:werkzeug:\u001b[31m\u001b[1mWARNING: This is a development server. Do not use it in a production deployment. Use a production WSGI server instead.\u001b[0m\n",
            " * Running on http://127.0.0.1:5000\n",
            "INFO:werkzeug:\u001b[33mPress CTRL+C to quit\u001b[0m\n",
            "INFO:werkzeug: * Restarting with stat\n"
          ]
        }
      ]
    },
    {
      "cell_type": "code",
      "source": [
        "# How do you serve static files like images or CSS in Flask#\n",
        "from flask import Flask, render_template\n",
        "\n",
        "app = Flask(__name__)\n",
        "\n",
        "@app.route('/')\n",
        "def home():\n",
        "    return render_template('index.html')\n",
        "\n",
        "if __name__ == '__main__':\n",
        "    app.run(debug=True)\n"
      ],
      "metadata": {
        "id": "pvMa_BwWU2U8"
      },
      "execution_count": null,
      "outputs": []
    },
    {
      "cell_type": "code",
      "source": [
        "# How do you define different routes with different HTTP methods in Flask#\n",
        "from flask import Flask, request, jsonify\n",
        "\n",
        "app = Flask(__name__)\n",
        "\n",
        "@app.route('/greet', methods=['GET', 'POST'])\n",
        "def greet():\n",
        "    if request.method == 'GET':\n",
        "        return \"Hello via GET!\"\n",
        "    elif request.method == 'POST':\n",
        "        data = request.json\n",
        "        name = data.get('name', 'Guest')\n",
        "        return jsonify(message=f\"Hello, {name} via POST!\")\n"
      ],
      "metadata": {
        "id": "mU3MGm18VX_g"
      },
      "execution_count": null,
      "outputs": []
    },
    {
      "cell_type": "code",
      "source": [
        "# How do you render HTML templates in Flask#\n",
        "from flask import Flask, render_template\n",
        "\n",
        "app = Flask(__name__)\n",
        "\n",
        "# Route to render the HTML template\n",
        "@app.route('/')\n",
        "def home():\n",
        "    return render_template('index.html')  # Renders index.html\n",
        "\n",
        "if __name__ == '__main__':\n",
        "    app.run(debug=True)\n"
      ],
      "metadata": {
        "id": "yWd2N4ZXVlNm"
      },
      "execution_count": null,
      "outputs": []
    },
    {
      "cell_type": "code",
      "source": [
        "# How can you generate URLs for routes in Flask using url_for#\n",
        "from flask import Flask, render_template, url_for\n",
        "\n",
        "app = Flask(__name__)\n",
        "\n",
        "@app.route('/')\n",
        "def home():\n",
        "    # Generate a dynamic URL to the profile page with a username\n",
        "    profile_url = url_for('profile', username='sanika')\n",
        "    return render_template('index.html', profile_url=profile_url)\n",
        "\n",
        "@app.route('/user/<username>')\n",
        "def profile(username):\n",
        "    return f\"Welcome to {username}'s profile!\"\n",
        "\n",
        "if __name__ == '__main__':\n",
        "    app.run(debug=True)\n"
      ],
      "metadata": {
        "id": "_g_nguqCV4S7"
      },
      "execution_count": null,
      "outputs": []
    },
    {
      "cell_type": "code",
      "source": [
        "#  How do you handle forms in Flask#\n",
        "from flask import Flask, render_template, request\n",
        "\n",
        "app = Flask(__name__)\n",
        "\n",
        "@app.route('/')\n",
        "def index():\n",
        "    return render_template('form.html')  # Show the form\n",
        "\n",
        "@app.route('/submit', methods=['POST'])\n",
        "def submit():\n",
        "    name = request.form['name']\n",
        "    email = request.form['email']\n",
        "    return render_template('result.html', name=name, email=email)\n",
        "\n",
        "if __name__ == '__main__':\n",
        "    app.run(debug=True)\n"
      ],
      "metadata": {
        "id": "HN60-wYOWLC6"
      },
      "execution_count": null,
      "outputs": []
    },
    {
      "cell_type": "code",
      "source": [
        "# How can you validate form data in Flask?#\n",
        "from flask import Flask, render_template, request, redirect, flash\n",
        "\n",
        "app = Flask(__name__)\n",
        "app.secret_key = 'your_secret_key'  # Required for flash messages\n",
        "\n",
        "@app.route('/')\n",
        "def form():\n",
        "    return render_template('form.html')\n",
        "\n",
        "@app.route('/submit', methods=['POST'])\n",
        "def submit():\n",
        "    name = request.form.get('name')\n",
        "    email = request.form.get('email')\n",
        "\n",
        "    # Basic validation\n",
        "    if not name or not email:\n",
        "        flash(\"All fields are required!\")\n",
        "        return redirect('/')\n",
        "\n",
        "    if '@' not in email:\n",
        "        flash(\"Invalid email address!\")\n",
        "        return redirect('/')\n",
        "\n",
        "    return render_template('result.html', name=name, email=email)\n",
        "\n",
        "if __name__ == '__main__':\n",
        "    app.run(debug=True)\n"
      ],
      "metadata": {
        "id": "NCqsgPP5WYFz"
      },
      "execution_count": null,
      "outputs": []
    },
    {
      "cell_type": "code",
      "source": [
        "# M How do you manage sessions in Flask#\n",
        "from flask import Flask, session, redirect, url_for, request, render_template\n",
        "\n",
        "app = Flask(__name__)\n",
        "app.secret_key = 'your_secret_key'  # Required to use sessions securely\n",
        "\n",
        "@app.route('/')\n",
        "def index():\n",
        "    if 'username' in session:\n",
        "        return f\"Welcome, {session['username']}! <a href='/logout'>Logout</a>\"\n",
        "    return \"You are not logged in. <a href='/login'>Login here</a>\"\n",
        "\n",
        "@app.route('/login', methods=['GET', 'POST'])\n",
        "def login():\n",
        "    if request.method == 'POST':\n",
        "        session['username'] = request.form['username']  # Store data in session\n",
        "        return redirect(url_for('index'))\n",
        "    return '''\n",
        "        <form method=\"POST\">\n",
        "            Username: <input type=\"text\" name=\"username\"><br>\n",
        "            <input type=\"submit\" value=\"Login\">\n",
        "        </form>\n",
        "    '''\n",
        "\n",
        "@app.route('/logout')\n",
        "def logout():\n",
        "    session.pop('username', None)  # Remove session key\n",
        "    return redirect(url_for('index'))\n",
        "\n",
        "if __name__ == '__main__':\n",
        "    app.run(debug=True)\n"
      ],
      "metadata": {
        "id": "AYt0DCLPWkxi"
      },
      "execution_count": null,
      "outputs": []
    },
    {
      "cell_type": "code",
      "source": [
        "# M How do you redirect to a different route in Flask?#\n",
        "from flask import Flask, redirect, url_for\n",
        "\n",
        "app = Flask(__name__)\n",
        "\n",
        "@app.route('/')\n",
        "def home():\n",
        "    return \"Welcome to the Home Page\"\n",
        "\n",
        "@app.route('/login')\n",
        "def login():\n",
        "    # Redirect user to the home page after login\n",
        "    return redirect(url_for('home'))\n",
        "\n",
        "if __name__ == '__main__':\n",
        "    app.run(debug=True)\n"
      ],
      "metadata": {
        "id": "CzdQvuNcWwNI"
      },
      "execution_count": null,
      "outputs": []
    },
    {
      "cell_type": "code",
      "source": [
        "#  How do you handle errors in Flask (e.g., 404)?#\n",
        "from flask import Flask, render_template\n",
        "\n",
        "app = Flask(__name__)\n",
        "\n",
        "@app.route('/')\n",
        "def home():\n",
        "    return \"Welcome to the homepage!\"\n",
        "\n",
        "# Custom 404 error page\n",
        "@app.errorhandler(404)\n",
        "def page_not_found(e):\n",
        "    return render_template('404.html'), 404\n",
        "\n",
        "if __name__ == '__main__':\n",
        "    app.run(debug=True)\n"
      ],
      "metadata": {
        "id": "nzrJ3ObPW-1-"
      },
      "execution_count": null,
      "outputs": []
    },
    {
      "cell_type": "code",
      "source": [
        "# from flask import Blueprint, render_template\n",
        "\n",
        "# Create a Blueprint object\n",
        "auth_bp = Blueprint('auth', __name__, url_prefix='/auth')\n",
        "\n",
        "# Add routes to the blueprint\n",
        "@auth_bp.route('/login')\n",
        "def login():\n",
        "    return render_template('login.html')\n",
        "\n"
      ],
      "metadata": {
        "id": "LDKMeW_jXNpc"
      },
      "execution_count": null,
      "outputs": []
    },
    {
      "cell_type": "code",
      "source": [
        "# How do you define a custom Jinja filter in Flask#\n",
        "from flask import Flask, render_template\n",
        "\n",
        "app = Flask(__name__)\n",
        "\n",
        "# Step 1: Define the custom filter function\n",
        "def reverse_string(s):\n",
        "    return s[::-1]\n",
        "\n",
        "# Step 2: Register the filter with Flask\n",
        "app.jinja_env.filters['reverse'] = reverse_string\n",
        "\n",
        "@app.route('/')\n",
        "def index():\n",
        "    name = \"Sanika\"\n",
        "    return render_template('index.html', name=name)\n",
        "\n",
        "if __name__ == '__main__':\n",
        "    app.run(debug=True)\n"
      ],
      "metadata": {
        "id": "wyRGNWXBXtfM"
      },
      "execution_count": null,
      "outputs": []
    },
    {
      "cell_type": "code",
      "source": [
        "#  How can you redirect with query parameters in Flask#\n",
        "from flask import Flask, redirect, url_for, request\n",
        "\n",
        "app = Flask(__name__)\n",
        "\n",
        "@app.route('/')\n",
        "def home():\n",
        "    # Redirect to /search with query parameters\n",
        "    return redirect(url_for('search', name='sanika', page=2))\n",
        "\n",
        "@app.route('/search')\n",
        "def search():\n",
        "    name = request.args.get('name')\n",
        "    page = request.args.get('page')\n",
        "    return f\"Searching for {name} on page {page}\"\n",
        "\n",
        "if __name__ == '__main__':\n",
        "    app.run(debug=True)\n"
      ],
      "metadata": {
        "id": "7Mv7tGmaX6mr"
      },
      "execution_count": null,
      "outputs": []
    },
    {
      "cell_type": "code",
      "source": [
        "# How do you return JSON responses in Flask?#\n",
        "from flask import Flask, jsonify\n",
        "\n",
        "app = Flask(__name__)\n",
        "\n",
        "@app.route('/api/data')\n",
        "def get_data():\n",
        "    data = {\n",
        "        'name': 'Sanika',\n",
        "        'age': 25,\n",
        "        'city': 'Pune'\n",
        "    }\n",
        "    return jsonify(data)\n",
        "\n",
        "if __name__ == '__main__':\n",
        "    app.run(debug=True)\n"
      ],
      "metadata": {
        "id": "QxUiUqHPYErG"
      },
      "execution_count": null,
      "outputs": []
    },
    {
      "cell_type": "code",
      "source": [
        "# How do you capture URL parameters in Flask?#\n",
        "from flask import Flask\n",
        "\n",
        "app = Flask(__name__)\n",
        "\n",
        "# Capture a string parameter\n",
        "@app.route('/user/<username>')\n",
        "def user_profile(username):\n",
        "    return f\"Hello, {username}!\"\n",
        "\n",
        "# Capture an integer parameter\n",
        "@app.route('/post/<int:post_id>')\n",
        "def show_post(post_id):\n",
        "    return f\"Post ID: {post_id}\"\n",
        "\n",
        "# Capture multiple parameters\n",
        "@app.route('/post/<int:post_id>/comment/<int:comment_id>')\n",
        "def show_comment(post_id, comment_id):\n",
        "    return f\"Post {post_id} - Comment {comment_id}\"\n",
        "\n",
        "# Capture a float\n",
        "@app.route('/price/<float:amount>')\n",
        "def show_price(amount):\n",
        "    return f\"Price: ₹{amount:.2f}\"\n",
        "\n",
        "# Capture a file path (allows slashes)\n",
        "@app.route('/file/<path:file_path>')\n",
        "def serve_file(file_path):\n",
        "    return f\"Requested file path: {file_path}\"\n",
        "\n",
        "if __name__ == '__main__':\n",
        "    app.run(debug=True)\n"
      ],
      "metadata": {
        "id": "VwozSAyAYTYD"
      },
      "execution_count": null,
      "outputs": []
    }
  ]
}